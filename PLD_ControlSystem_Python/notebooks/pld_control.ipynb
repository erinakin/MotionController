{
 "cells": [
  {
   "cell_type": "markdown",
   "metadata": {},
   "source": [
    "### Motion Controls\n",
    "##### Goal  \n",
    "Modular Code So blocks for specific functions or buttons\n",
    "First Identify What functions are necessary for experiment context\n",
    "\n",
    "#### Features from LabView Code \n",
    "\n",
    "Accepts these Inputs:  \n",
    "IP Address: 192.168.254.254  \n",
    "Port No: 5001  \n",
    "Timeout: 10,000  \n",
    "GroupName: Group 1  \n",
    "nbitems: 1  \n",
    "TargetPosition:  \n",
    "STOP BUTTON  "
   ]
  },
  {
   "cell_type": "markdown",
   "metadata": {},
   "source": [
    "### Connect and Status"
   ]
  },
  {
   "cell_type": "markdown",
   "metadata": {},
   "source": [
    "1. Create xps object and Checks group status below"
   ]
  },
  {
   "cell_type": "code",
   "execution_count": 1,
   "metadata": {},
   "outputs": [],
   "source": [
    "%load_ext autoreload\n",
    "%autoreload 2   "
   ]
  },
  {
   "cell_type": "code",
   "execution_count": 2,
   "metadata": {},
   "outputs": [],
   "source": [
    "import sys\n",
    "import os\n",
    "\n",
    "# sys.path.append(r'C:\\Users\\ooa56\\Documents\\PLD_ControlSystem_Python')\n",
    "sys.path.append(r'C:\\Users\\ooa56\\Documents\\PLD_ControlSystem_Python\\PLD_ControlSystem_Python\\src')"
   ]
  },
  {
   "cell_type": "code",
   "execution_count": null,
   "metadata": {},
   "outputs": [],
   "source": [
    "\n",
    "# from src.newportxps import NewportXPS\n",
    "\n",
    "# xps = NewportXPS('192.168.254.254', username='Administrator', password='Administrator')\n",
    "\n",
    "# print(xps.status_report())\n"
   ]
  },
  {
   "cell_type": "code",
   "execution_count": null,
   "metadata": {},
   "outputs": [],
   "source": [
    "# xps.read_systemini()"
   ]
  },
  {
   "cell_type": "markdown",
   "metadata": {},
   "source": [
    "Error Description:\n",
    "ZM high level: This refers to the mechanical zero signal used with some stages. The ZM\n",
    "signal is high during one part of the travel and low during the other part of the travel.\n",
    "The detection of the ZM high/low transition in combination with an encoder index pulse\n",
    "signal allows a fast and repeatable origin search\n",
    "(MechanicalZeroAndIndexHomeSearch).\n",
    "\n",
    "Do I need to resolve this error? Don't think so has not prevented the running of following commands\n",
    "\n"
   ]
  },
  {
   "cell_type": "code",
   "execution_count": null,
   "metadata": {},
   "outputs": [],
   "source": [
    "# Print all stages configured on the controller\n",
    "#for sname, info in xps.stages.items():\n",
    "#    print(sname, xps.get_stage_position(sname), info)"
   ]
  },
  {
   "cell_type": "markdown",
   "metadata": {},
   "source": [
    "Note:  To prevent following Error during Homing process. Ensure that within the stages.ini configuration file the Home Search Process Parameters are as below the maximum velocity is 40 Unit/Sec.  \n",
    "SETTINGS:  \n",
    "; --- Home search process parameters  \n",
    "; --- <HomeSearch.MechanicalZeroAndIndexHomeSearch>  \n",
    "HomeSearchSequenceType = MechanicalZeroAndIndexHomeSearch  \n",
    "HomeSearchMaximumVelocity = 30 ; Unit/Sec  \n",
    "HomeSearchMaximumAcceleration = 400 ; Unit/Sec²  \n",
    "HomeSearchTimeOut = 10 ; Sec  \n",
    "HomingSensorOffset = 0 ; Unit  "
   ]
  },
  {
   "cell_type": "markdown",
   "metadata": {},
   "source": [
    "### Initialize and Home"
   ]
  },
  {
   "cell_type": "markdown",
   "metadata": {},
   "source": [
    "2. Now Initialize Group  \n",
    "Notes:  \n",
    "Initializing the group (turning the motor on) causes the stage to move.  \n",
    "Have not neccessarily observed pattern in how much the stage moves or even the direction it moves.  \n",
    "Comparing the command above and below to check the position of the group shows the change.\n",
    "AFter initializing group Status is in Not Referenced State\n"
   ]
  },
  {
   "cell_type": "code",
   "execution_count": null,
   "metadata": {},
   "outputs": [],
   "source": [
    "#if group status enabled then kill all groups else initialize group\n",
    "# Remember to Kill Group before exiting or if the motor is still on\n",
    "#xps.kill_group('Group1')\n",
    "\n",
    "# Turns on the servo Motor for the specified group and home the stage\n",
    "#xps.initialize_group('Group1', with_encoder=True, home=True, with_raise=True)"
   ]
  },
  {
   "cell_type": "code",
   "execution_count": null,
   "metadata": {},
   "outputs": [],
   "source": [
    "# Print all groups configured on the controller\n",
    "#for gname, info in xps.groups.items():\n",
    "#    print(gname, info)"
   ]
  },
  {
   "cell_type": "code",
   "execution_count": null,
   "metadata": {},
   "outputs": [],
   "source": [
    "# Note Turning the servo on will cause the stage to move the stage position\n",
    "# Check to make sure that these functions perform as expected\n",
    "#print('Where Group1.Pos is', xps.get_stage_position('Group1.Pos'), info)\n",
    "# print(xps.get_group_status())"
   ]
  },
  {
   "cell_type": "markdown",
   "metadata": {},
   "source": [
    "### Move Motion Stage"
   ]
  },
  {
   "cell_type": "code",
   "execution_count": null,
   "metadata": {},
   "outputs": [],
   "source": [
    "# Move the stage to a new position. Default is absolute motion can optionally set the motion to relative by relative=True\n",
    "# xps.move_stage('Group1.Pos', 10.0)\n"
   ]
  },
  {
   "cell_type": "markdown",
   "metadata": {},
   "source": [
    "## start here\n",
    "#### TESTING FUNCTIONS FROM SIMPLIFIED CONTROLLER SCRIPT"
   ]
  },
  {
   "cell_type": "code",
   "execution_count": 3,
   "metadata": {},
   "outputs": [],
   "source": [
    "import pld_controlsystem_python.motion_ctrl as mc"
   ]
  },
  {
   "cell_type": "code",
   "execution_count": 4,
   "metadata": {},
   "outputs": [],
   "source": [
    "# Initialize motion controller with host IP address and optional group name\n",
    "controller = mc.MotionController('192.168.254.254', username='Administrator', password='Administrator')\n"
   ]
  },
  {
   "cell_type": "markdown",
   "metadata": {},
   "source": [
    "The initialize and Home function Initializes and homes all the groups connected to the controller."
   ]
  },
  {
   "cell_type": "code",
   "execution_count": 5,
   "metadata": {},
   "outputs": [
    {
     "data": {
      "text/plain": [
       "'# XPS host:         192.168.254.254 (XPS-1871)\\n# Firmware:         XPS-RL-D-N16002\\n# Current Time:     Mon Jun 10 09:54:46 2024\\n# Last Reboot:      Fri May 24 16:51:26 2024\\n# Trajectory Group: None\\n# Groups and Stages\\nGroup1 (singleaxisinuse), Status: Ready state from homing\\nStages:\\n   Group1.Pos (ILS@ILS200LM@XPS-DRV02)\\n      Hardware Status: First driver powered on - ZM low level\\n      Positioner Errors: OK'"
      ]
     },
     "execution_count": 5,
     "metadata": {},
     "output_type": "execute_result"
    }
   ],
   "source": [
    "\n",
    "# Initialize and home the motion controller\n",
    "controller.initialize_and_home()\n"
   ]
  },
  {
   "cell_type": "markdown",
   "metadata": {},
   "source": [
    "The set_position function currently needs the name of the Stage to be specified but I can hard code this to be the first stage name  this to be the first stage name."
   ]
  },
  {
   "cell_type": "code",
   "execution_count": 6,
   "metadata": {},
   "outputs": [
    {
     "name": "stdout",
     "output_type": "stream",
     "text": [
      "The current position of Group1.Pos is 50.00587\n"
     ]
    }
   ],
   "source": [
    "\n",
    "# Set position of a stage\n",
    "controller.set_position(stage=\"Group1.Pos\", position=50.0)\n"
   ]
  },
  {
   "cell_type": "code",
   "execution_count": 7,
   "metadata": {},
   "outputs": [
    {
     "name": "stdout",
     "output_type": "stream",
     "text": [
      "The current position of Group1.Pos is 50.00007\n"
     ]
    }
   ],
   "source": [
    "controller.get_position(stage=\"Group1.Pos\")"
   ]
  },
  {
   "cell_type": "code",
   "execution_count": 8,
   "metadata": {},
   "outputs": [
    {
     "name": "stdout",
     "output_type": "stream",
     "text": [
      "The current velocity of Group1.Pos is 500 Units/sec\n"
     ]
    }
   ],
   "source": [
    "\n",
    "# Set velocity parameters for a stage\n",
    "# Can be expanded to include acceleration and jerktime parameters\n",
    "controller.set_velocity(stage=\"Group1.Pos\", velocity=500.0, )\n"
   ]
  },
  {
   "cell_type": "code",
   "execution_count": 9,
   "metadata": {},
   "outputs": [
    {
     "name": "stdout",
     "output_type": "stream",
     "text": [
      "The current velocity of Group1.Pos is 500 Units/sec\n"
     ]
    }
   ],
   "source": [
    "controller.get_velocity(stage=\"Group1.Pos\") "
   ]
  },
  {
   "cell_type": "code",
   "execution_count": 10,
   "metadata": {},
   "outputs": [
    {
     "name": "stdout",
     "output_type": "stream",
     "text": [
      "The current position of Group1.Pos is 0.00925\n"
     ]
    }
   ],
   "source": [
    "controller.set_position(stage=\"Group1.Pos\", position=0.0)"
   ]
  },
  {
   "cell_type": "code",
   "execution_count": 12,
   "metadata": {},
   "outputs": [],
   "source": [
    "\n",
    "# Stop the motion controller\n",
    "controller.stop_controller()"
   ]
  },
  {
   "cell_type": "markdown",
   "metadata": {},
   "source": [
    "## Attenuator Controls"
   ]
  },
  {
   "cell_type": "code",
   "execution_count": 13,
   "metadata": {},
   "outputs": [],
   "source": [
    "import pld_controlsystem_python.attenuator_ctrl as ac\n"
   ]
  },
  {
   "cell_type": "markdown",
   "metadata": {},
   "source": [
    "## Troubleshooting attempt ##\n",
    "1. Take Pictures of current state of controller wiring\n",
    "2. Examine Attenuator Schematics understand them in relation to the physical system\n",
    "\n",
    "Today: First tried to run commands above again and got the same response of the cell continuously running. Then tried uploading the Arduino sketch to the controller through the Arduino IDE unsuccessfully.\n",
    "Will proceed with initial plan to resolve the unresponsiveness of the controller.\n",
    "06/03/24- Problem Resolved. Created new python script with attenuator controls based on Labview set-up. Gained better undertanding of the labview blocks. Attenuator now responds to commands."
   ]
  },
  {
   "cell_type": "code",
   "execution_count": 14,
   "metadata": {},
   "outputs": [],
   "source": [
    "laser = ac.AttenuatorControls()\n"
   ]
  },
  {
   "cell_type": "code",
   "execution_count": 15,
   "metadata": {},
   "outputs": [],
   "source": [
    "angle = 45\n",
    "speed = 4\n"
   ]
  },
  {
   "cell_type": "code",
   "execution_count": 16,
   "metadata": {},
   "outputs": [],
   "source": [
    "# Execute the sequence of operations\n",
    "laser.rotate_to_angle(angle)\n"
   ]
  },
  {
   "cell_type": "code",
   "execution_count": 17,
   "metadata": {},
   "outputs": [],
   "source": [
    "laser.clear_laser()\n"
   ]
  },
  {
   "cell_type": "code",
   "execution_count": 18,
   "metadata": {},
   "outputs": [],
   "source": [
    "laser.block_laser()\n"
   ]
  },
  {
   "cell_type": "code",
   "execution_count": 19,
   "metadata": {},
   "outputs": [],
   "source": [
    "laser.home_attenuator()\n",
    "laser.set_rotation_speed(speed)\n",
    "\n",
    "# Close the serial connection\n",
    "laser.close()\n"
   ]
  },
  {
   "cell_type": "markdown",
   "metadata": {},
   "source": [
    "## Target Controls\n",
    "\n",
    "The carousel responds to commands."
   ]
  },
  {
   "cell_type": "code",
   "execution_count": 20,
   "metadata": {},
   "outputs": [],
   "source": [
    "import pld_controlsystem_python.target_ctrl as tc"
   ]
  },
  {
   "cell_type": "code",
   "execution_count": 21,
   "metadata": {},
   "outputs": [],
   "source": [
    "carousel = tc.TargetControls(port='COM7')\n",
    "\n"
   ]
  },
  {
   "cell_type": "code",
   "execution_count": 22,
   "metadata": {},
   "outputs": [],
   "source": [
    "\n",
    "angle = 45\n",
    "speed = 5\n"
   ]
  },
  {
   "cell_type": "code",
   "execution_count": 23,
   "metadata": {},
   "outputs": [],
   "source": [
    "# Execute the sequence of operations\n",
    "carousel.step_raster_cw()"
   ]
  },
  {
   "cell_type": "code",
   "execution_count": 24,
   "metadata": {},
   "outputs": [],
   "source": [
    "carousel.step_raster_ccw()"
   ]
  },
  {
   "cell_type": "code",
   "execution_count": 25,
   "metadata": {},
   "outputs": [],
   "source": [
    "carousel.home_raster()\n"
   ]
  },
  {
   "cell_type": "code",
   "execution_count": 26,
   "metadata": {},
   "outputs": [],
   "source": [
    "carousel.set_raster_speed(speed)\n"
   ]
  },
  {
   "cell_type": "code",
   "execution_count": 27,
   "metadata": {},
   "outputs": [],
   "source": [
    "carousel.start_raster(45)\n"
   ]
  },
  {
   "cell_type": "code",
   "execution_count": 28,
   "metadata": {},
   "outputs": [],
   "source": [
    "carousel.stop_raster()\n"
   ]
  },
  {
   "cell_type": "code",
   "execution_count": 29,
   "metadata": {},
   "outputs": [],
   "source": [
    "carousel.start_rotate()\n"
   ]
  },
  {
   "cell_type": "code",
   "execution_count": 30,
   "metadata": {},
   "outputs": [],
   "source": [
    "carousel.stop_rotation()\n"
   ]
  },
  {
   "cell_type": "code",
   "execution_count": 31,
   "metadata": {},
   "outputs": [],
   "source": [
    "carousel.rotate_to_angle(angle)\n",
    "carousel.set_rotation_speed(speed)\n",
    "carousel.move_to_target(1)\n",
    "\n",
    "# Close the serial connection\n",
    "carousel.close()\n",
    " "
   ]
  },
  {
   "cell_type": "markdown",
   "metadata": {},
   "source": [
    "## Vacuum Controls\n"
   ]
  },
  {
   "cell_type": "code",
   "execution_count": 32,
   "metadata": {},
   "outputs": [],
   "source": [
    "import pld_controlsystem_python.vacuum_ctrl as vc\n"
   ]
  },
  {
   "cell_type": "code",
   "execution_count": 33,
   "metadata": {},
   "outputs": [],
   "source": [
    "vac = vc.VacuumControls()"
   ]
  },
  {
   "cell_type": "code",
   "execution_count": 34,
   "metadata": {},
   "outputs": [
    {
     "name": "stdout",
     "output_type": "stream",
     "text": [
      "Initialization successful\n"
     ]
    }
   ],
   "source": [
    "vac.initialize()"
   ]
  },
  {
   "cell_type": "code",
   "execution_count": 40,
   "metadata": {},
   "outputs": [
    {
     "name": "stdout",
     "output_type": "stream",
     "text": [
      "\n"
     ]
    }
   ],
   "source": [
    "response_mbar = vac.read_data(parameter=4)"
   ]
  },
  {
   "cell_type": "code",
   "execution_count": 36,
   "metadata": {},
   "outputs": [],
   "source": [
    "if response_mbar:\n",
    "    response_mbar = float(response_mbar)\n",
    "    response_torr = vc.mbar_to_torr(response_mbar)\n",
    "    print(f'Response: {response_mbar} mbar')\n",
    "    print(f'Response: {response_torr} Torr')"
   ]
  },
  {
   "cell_type": "code",
   "execution_count": null,
   "metadata": {},
   "outputs": [],
   "source": []
  }
 ],
 "metadata": {
  "kernelspec": {
   "display_name": "xpsctrl",
   "language": "python",
   "name": "python3"
  },
  "language_info": {
   "codemirror_mode": {
    "name": "ipython",
    "version": 3
   },
   "file_extension": ".py",
   "mimetype": "text/x-python",
   "name": "python",
   "nbconvert_exporter": "python",
   "pygments_lexer": "ipython3",
   "version": "3.12.4"
  }
 },
 "nbformat": 4,
 "nbformat_minor": 2
}
