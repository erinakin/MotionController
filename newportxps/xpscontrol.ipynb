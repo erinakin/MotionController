{
 "cells": [
  {
   "cell_type": "markdown",
   "metadata": {},
   "source": [
    "### Motion Controls\n",
    "##### Goal  \n",
    "Modular Code So blocks for specific functions or buttons\n",
    "First Identify What functions are necessary for experiment context\n",
    "\n",
    "#### Features from LabView Code \n",
    "\n",
    "Accepts these Inputs:  \n",
    "IP Address: 192.168.254.254  \n",
    "Port No: 5001  \n",
    "Timeout: 10,000  \n",
    "GroupName: Group 1  \n",
    "nbitems: 1  \n",
    "TargetPosition:  \n",
    "STOP BUTTON  "
   ]
  },
  {
   "cell_type": "markdown",
   "metadata": {},
   "source": [
    "1. Create xps object and Checks group status below"
   ]
  },
  {
   "cell_type": "markdown",
   "metadata": {},
   "source": [
    "### Connect and Status"
   ]
  },
  {
   "cell_type": "code",
   "execution_count": 1,
   "metadata": {},
   "outputs": [
    {
     "name": "stdout",
     "output_type": "stream",
     "text": [
      "# XPS host:         192.168.254.254 (XPS-1871)\n",
      "# Firmware:         XPS-RL-D-N16002\n",
      "# Current Time:     Tue May 14 17:15:24 2024\n",
      "# Last Reboot:      Tue May 14 15:21:13 2024\n",
      "# Trajectory Group: None\n",
      "# Groups and Stages\n",
      "Group1 (singleaxisinuse), Status: Ready state from motion\n",
      "   Group1.Pos (ILS@ILS200LM@XPS-DRV02)\n",
      "      Hardware Status: First driver powered on - ZM low level\n",
      "      Positioner Errors: OK\n"
     ]
    }
   ],
   "source": [
    "%load_ext autoreload\n",
    "%autoreload 2   \n",
    "from newportxps.newportxps import NewportXPS\n",
    "\n",
    "xps = NewportXPS('192.168.254.254', username='Administrator', password='Administrator')\n",
    "\n",
    "print(xps.status_report())"
   ]
  },
  {
   "cell_type": "code",
   "execution_count": 4,
   "metadata": {},
   "outputs": [
    {
     "data": {
      "text/plain": [
       "{'Group1': {'category': 'singleaxisinuse', 'positioners': ['Pos']}}"
      ]
     },
     "execution_count": 4,
     "metadata": {},
     "output_type": "execute_result"
    }
   ],
   "source": [
    "xps.read_systemini()"
   ]
  },
  {
   "cell_type": "markdown",
   "metadata": {},
   "source": [
    "Error Description:\n",
    "ZM high level: This refers to the mechanical zero signal used with some stages. The ZM\n",
    "signal is high during one part of the travel and low during the other part of the travel.\n",
    "The detection of the ZM high/low transition in combination with an encoder index pulse\n",
    "signal allows a fast and repeatable origin search\n",
    "(MechanicalZeroAndIndexHomeSearch).\n",
    "\n",
    "Do I need to resolve this error? Don't think so has not prevented the running of following commands\n",
    "\n"
   ]
  },
  {
   "cell_type": "code",
   "execution_count": 15,
   "metadata": {},
   "outputs": [
    {
     "name": "stdout",
     "output_type": "stream",
     "text": [
      "Group1.Pos 0 {'stagetype': 'ILS@ILS200LM@XPS-DRV02', 'max_velo': 500, 'max_accel': 666.6666666666666, 'low_limit': -100, 'high_limit': 100}\n"
     ]
    }
   ],
   "source": [
    "# Print all stages configured on the controller\n",
    "for sname, info in xps.stages.items():\n",
    "    print(sname, xps.get_stage_position(sname), info)"
   ]
  },
  {
   "cell_type": "markdown",
   "metadata": {},
   "source": [
    "2. Now Initialize Group  \n",
    "Notes:  \n",
    "Initializing the group (turning the motor on) causes the stage to move.  \n",
    "Have not neccessarily observed pattern in how much the stage moves or even the direction it moves.  \n",
    "Comparing the command above and below to check the position of the group shows the change.\n",
    "AFter initializing group Status is in Not Referenced State\n"
   ]
  },
  {
   "cell_type": "markdown",
   "metadata": {},
   "source": [
    "Note:  To prevent following Error during Homing process. Ensure that within the stages.ini configuration file the Home Search Process Parameters are as below the maximum velocity is 40 Unit/Sec.  \n",
    "SETTINGS:  \n",
    "; --- Home search process parameters  \n",
    "; --- <HomeSearch.MechanicalZeroAndIndexHomeSearch>  \n",
    "HomeSearchSequenceType = MechanicalZeroAndIndexHomeSearch  \n",
    "HomeSearchMaximumVelocity = 30 ; Unit/Sec  \n",
    "HomeSearchMaximumAcceleration = 400 ; Unit/Sec²  \n",
    "HomeSearchTimeOut = 10 ; Sec  \n",
    "HomingSensorOffset = 0 ; Unit  "
   ]
  },
  {
   "cell_type": "markdown",
   "metadata": {},
   "source": [
    "### Initialize and Home"
   ]
  },
  {
   "cell_type": "code",
   "execution_count": 2,
   "metadata": {},
   "outputs": [],
   "source": [
    "#if group status enabled then kill all groups else initialize group\n",
    "# Remember to Kill Group before exiting or if the motor is still on\n",
    "xps.kill_group('Group1')\n",
    "\n",
    "# Turns on the servo Motor for the specified group and home the stage\n",
    "xps.initialize_group('Group1', with_encoder=True, home=True, with_raise=True)"
   ]
  },
  {
   "cell_type": "code",
   "execution_count": 6,
   "metadata": {},
   "outputs": [
    {
     "name": "stdout",
     "output_type": "stream",
     "text": [
      "Group1 {'category': 'singleaxisinuse', 'positioners': ['Pos']}\n"
     ]
    }
   ],
   "source": [
    "# Print all groups configured on the controller\n",
    "for gname, info in xps.groups.items():\n",
    "    print(gname, info)"
   ]
  },
  {
   "cell_type": "code",
   "execution_count": 7,
   "metadata": {},
   "outputs": [
    {
     "name": "stdout",
     "output_type": "stream",
     "text": [
      "Where Group1.Pos is 1e-05 {'category': 'singleaxisinuse', 'positioners': ['Pos']}\n",
      "{'Group1': 'Ready state from homing'}\n"
     ]
    }
   ],
   "source": [
    "# Note Turning the servo on will cause the stage to move the stage position\n",
    "# Check to make sure that these functions perform as expected\n",
    "print('Where Group1.Pos is', xps.get_stage_position('Group1.Pos'), info)\n",
    "print(xps.get_group_status())"
   ]
  },
  {
   "cell_type": "markdown",
   "metadata": {},
   "source": [
    "### Move Motion Stage"
   ]
  },
  {
   "cell_type": "code",
   "execution_count": 11,
   "metadata": {},
   "outputs": [
    {
     "data": {
      "text/plain": [
       "''"
      ]
     },
     "execution_count": 11,
     "metadata": {},
     "output_type": "execute_result"
    }
   ],
   "source": [
    "# Move the stage to a new position. Default is absolute motion can optionally set the motion to relative by relative=True\n",
    "xps.move_stage('Group1.Pos', 0.0)\n",
    "xps.move_stage('Group1.Pos', 10.0)\n",
    "xps.move_stage('Group1.Pos', -10.0)\n",
    "xps.move_stage('Group1.Pos', 20.0)\n",
    "xps.move_stage('Group1.Pos', -20.0)\n",
    "xps.move_stage('Group1.Pos', 30.0)\n",
    "xps.move_stage('Group1.Pos', -30.0)\n",
    "xps.move_stage('Group1.Pos', 40.0)\n",
    "xps.move_stage('Group1.Pos', -40.0)\n",
    "xps.move_stage('Group1.Pos', 0.0)"
   ]
  },
  {
   "cell_type": "markdown",
   "metadata": {},
   "source": [
    "### STOP Button"
   ]
  },
  {
   "cell_type": "code",
   "execution_count": null,
   "metadata": {},
   "outputs": [],
   "source": []
  }
 ],
 "metadata": {
  "kernelspec": {
   "display_name": "xpsctrl",
   "language": "python",
   "name": "python3"
  },
  "language_info": {
   "codemirror_mode": {
    "name": "ipython",
    "version": 3
   },
   "file_extension": ".py",
   "mimetype": "text/x-python",
   "name": "python",
   "nbconvert_exporter": "python",
   "pygments_lexer": "ipython3",
   "version": "3.12.3"
  }
 },
 "nbformat": 4,
 "nbformat_minor": 2
}
