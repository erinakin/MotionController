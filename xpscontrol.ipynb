{
 "cells": [
  {
   "cell_type": "markdown",
   "metadata": {},
   "source": [
    "### Motion Controls\n",
    "##### Goal  \n",
    "Modular Code So blocks for specific functions or buttons\n",
    "First Identify What functions are necessary for experiment context\n",
    "\n",
    "#### Features from LabView Code \n",
    "\n",
    "Accepts these Inputs:  \n",
    "IP Address: 192.168.254.254  \n",
    "Port No: 5001  \n",
    "Timeout: 10,000  \n",
    "GroupName: Group 1  \n",
    "nbitems: 1  \n",
    "TargetPosition:  \n",
    "STOP BUTTON  "
   ]
  },
  {
   "cell_type": "markdown",
   "metadata": {},
   "source": [
    "1. Create xps object and Checks group status below"
   ]
  },
  {
   "cell_type": "markdown",
   "metadata": {},
   "source": [
    "### Connect and Status"
   ]
  },
  {
   "cell_type": "code",
   "execution_count": 1,
   "metadata": {},
   "outputs": [
    {
     "name": "stdout",
     "output_type": "stream",
     "text": [
      "# XPS host:         192.168.254.254 (XPS-1871)\n",
      "# Firmware:         XPS-RL-D-N16002\n",
      "# Current Time:     Wed May 15 16:10:04 2024\n",
      "# Last Reboot:      Wed May 15 13:37:36 2024\n",
      "# Trajectory Group: None\n",
      "# Groups and Stages\n",
      "Group1 (singleaxisinuse), Status: Not referenced state\n",
      "Stages:\n",
      "   Group1.Pos (ILS@ILS200LM@XPS-DRV02)\n",
      "      Hardware Status: First driver powered on - ZM low level\n",
      "      Positioner Errors: OK\n"
     ]
    }
   ],
   "source": [
    "%load_ext autoreload\n",
    "%autoreload 2   \n",
    "from newportxps.newportxps import NewportXPS\n",
    "\n",
    "xps = NewportXPS('192.168.254.254', username='Administrator', password='Administrator')\n",
    "\n",
    "print(xps.status_report())"
   ]
  },
  {
   "cell_type": "code",
   "execution_count": 2,
   "metadata": {},
   "outputs": [
    {
     "data": {
      "text/plain": [
       "{'Group1': {'category': 'singleaxisinuse', 'positioners': ['Pos']}}"
      ]
     },
     "execution_count": 2,
     "metadata": {},
     "output_type": "execute_result"
    }
   ],
   "source": [
    "xps.read_systemini()"
   ]
  },
  {
   "cell_type": "markdown",
   "metadata": {},
   "source": [
    "Error Description:\n",
    "ZM high level: This refers to the mechanical zero signal used with some stages. The ZM\n",
    "signal is high during one part of the travel and low during the other part of the travel.\n",
    "The detection of the ZM high/low transition in combination with an encoder index pulse\n",
    "signal allows a fast and repeatable origin search\n",
    "(MechanicalZeroAndIndexHomeSearch).\n",
    "\n",
    "Do I need to resolve this error? Don't think so has not prevented the running of following commands\n",
    "\n"
   ]
  },
  {
   "cell_type": "code",
   "execution_count": 3,
   "metadata": {},
   "outputs": [
    {
     "name": "stdout",
     "output_type": "stream",
     "text": [
      "Group1.Pos 0.78327 {'stagetype': 'ILS@ILS200LM@XPS-DRV02', 'max_velo': 500, 'max_accel': 666.6666666666666, 'low_limit': -100, 'high_limit': 100}\n"
     ]
    }
   ],
   "source": [
    "# Print all stages configured on the controller\n",
    "for sname, info in xps.stages.items():\n",
    "    print(sname, xps.get_stage_position(sname), info)"
   ]
  },
  {
   "cell_type": "markdown",
   "metadata": {},
   "source": [
    "2. Now Initialize Group  \n",
    "Notes:  \n",
    "Initializing the group (turning the motor on) causes the stage to move.  \n",
    "Have not neccessarily observed pattern in how much the stage moves or even the direction it moves.  \n",
    "Comparing the command above and below to check the position of the group shows the change.\n",
    "AFter initializing group Status is in Not Referenced State\n"
   ]
  },
  {
   "cell_type": "markdown",
   "metadata": {},
   "source": [
    "Note:  To prevent following Error during Homing process. Ensure that within the stages.ini configuration file the Home Search Process Parameters are as below the maximum velocity is 40 Unit/Sec.  \n",
    "SETTINGS:  \n",
    "; --- Home search process parameters  \n",
    "; --- <HomeSearch.MechanicalZeroAndIndexHomeSearch>  \n",
    "HomeSearchSequenceType = MechanicalZeroAndIndexHomeSearch  \n",
    "HomeSearchMaximumVelocity = 30 ; Unit/Sec  \n",
    "HomeSearchMaximumAcceleration = 400 ; Unit/Sec²  \n",
    "HomeSearchTimeOut = 10 ; Sec  \n",
    "HomingSensorOffset = 0 ; Unit  "
   ]
  },
  {
   "cell_type": "markdown",
   "metadata": {},
   "source": [
    "### Initialize and Home"
   ]
  },
  {
   "cell_type": "code",
   "execution_count": 5,
   "metadata": {},
   "outputs": [],
   "source": [
    "#if group status enabled then kill all groups else initialize group\n",
    "# Remember to Kill Group before exiting or if the motor is still on\n",
    "xps.kill_group('Group1')\n",
    "\n",
    "# Turns on the servo Motor for the specified group and home the stage\n",
    "#xps.initialize_group('Group1', with_encoder=True, home=True, with_raise=True)"
   ]
  },
  {
   "cell_type": "code",
   "execution_count": 6,
   "metadata": {},
   "outputs": [
    {
     "name": "stdout",
     "output_type": "stream",
     "text": [
      "Group1 {'category': 'singleaxisinuse', 'positioners': ['Pos']}\n"
     ]
    }
   ],
   "source": [
    "# Print all groups configured on the controller\n",
    "for gname, info in xps.groups.items():\n",
    "    print(gname, info)"
   ]
  },
  {
   "cell_type": "code",
   "execution_count": 7,
   "metadata": {},
   "outputs": [
    {
     "name": "stdout",
     "output_type": "stream",
     "text": [
      "Where Group1.Pos is 1e-05 {'category': 'singleaxisinuse', 'positioners': ['Pos']}\n",
      "{'Group1': 'Ready state from homing'}\n"
     ]
    }
   ],
   "source": [
    "# Note Turning the servo on will cause the stage to move the stage position\n",
    "# Check to make sure that these functions perform as expected\n",
    "print('Where Group1.Pos is', xps.get_stage_position('Group1.Pos'), info)\n",
    "print(xps.get_group_status())"
   ]
  },
  {
   "cell_type": "markdown",
   "metadata": {},
   "source": [
    "### Move Motion Stage"
   ]
  },
  {
   "cell_type": "code",
   "execution_count": 5,
   "metadata": {},
   "outputs": [
    {
     "data": {
      "text/plain": [
       "''"
      ]
     },
     "execution_count": 5,
     "metadata": {},
     "output_type": "execute_result"
    }
   ],
   "source": [
    "# Move the stage to a new position. Default is absolute motion can optionally set the motion to relative by relative=True\n",
    "xps.move_stage('Group1.Pos', 10.0)\n"
   ]
  },
  {
   "cell_type": "markdown",
   "metadata": {},
   "source": [
    "### STOP Button"
   ]
  },
  {
   "cell_type": "code",
   "execution_count": 6,
   "metadata": {},
   "outputs": [],
   "source": [
    "import newportxps.controller_param as cp"
   ]
  },
  {
   "cell_type": "code",
   "execution_count": 7,
   "metadata": {},
   "outputs": [],
   "source": [
    "# Initialize motion controller with host IP address and optional group name\n",
    "controller = cp.MotionController('192.168.254.254', username='Administrator', password='Administrator')\n"
   ]
  },
  {
   "cell_type": "code",
   "execution_count": 8,
   "metadata": {},
   "outputs": [
    {
     "name": "stdout",
     "output_type": "stream",
     "text": [
      "# XPS host:         192.168.254.254 (XPS-1871)\n",
      "# Firmware:         XPS-RL-D-N16002\n",
      "# Current Time:     Wed May 15 16:10:37 2024\n",
      "# Last Reboot:      Wed May 15 13:37:36 2024\n",
      "# Trajectory Group: None\n",
      "# Groups and Stages\n",
      "Group1 (singleaxisinuse), Status: Not initialized state due to a GroupKill or KillAll command\n",
      "Stages:\n",
      "   Group1.Pos (ILS@ILS200LM@XPS-DRV02)\n",
      "      Hardware Status: ZM low level\n",
      "      Positioner Errors: OK\n"
     ]
    }
   ],
   "source": [
    "# Show status report\n",
    "print(controller.show_status())\n",
    "\n"
   ]
  },
  {
   "cell_type": "code",
   "execution_count": 9,
   "metadata": {},
   "outputs": [],
   "source": [
    "\n",
    "# Initialize and home the motion controller\n",
    "controller.initialize_and_home()\n"
   ]
  },
  {
   "cell_type": "code",
   "execution_count": 12,
   "metadata": {},
   "outputs": [
    {
     "name": "stdout",
     "output_type": "stream",
     "text": [
      "XPSError: message= Moving stage 'Group1.Pos', error=-22, description=Not allowed action\n"
     ]
    },
    {
     "ename": "XPSException",
     "evalue": "Moving stage 'Group1.Pos' Not allowed action [Error -22]",
     "output_type": "error",
     "traceback": [
      "\u001b[1;31m---------------------------------------------------------------------------\u001b[0m",
      "\u001b[1;31mXPSException\u001b[0m                              Traceback (most recent call last)",
      "Cell \u001b[1;32mIn[12], line 2\u001b[0m\n\u001b[0;32m      1\u001b[0m \u001b[38;5;66;03m# Set position of a stage\u001b[39;00m\n\u001b[1;32m----> 2\u001b[0m \u001b[43mcontroller\u001b[49m\u001b[38;5;241;43m.\u001b[39;49m\u001b[43mset_position\u001b[49m\u001b[43m(\u001b[49m\u001b[43mstage\u001b[49m\u001b[38;5;241;43m=\u001b[39;49m\u001b[38;5;124;43m\"\u001b[39;49m\u001b[38;5;124;43mGroup1.Pos\u001b[39;49m\u001b[38;5;124;43m\"\u001b[39;49m\u001b[43m,\u001b[49m\u001b[43m \u001b[49m\u001b[43mposition\u001b[49m\u001b[38;5;241;43m=\u001b[39;49m\u001b[38;5;241;43m100.0\u001b[39;49m\u001b[43m)\u001b[49m\n",
      "File \u001b[1;32mc:\\Users\\ooa56\\Documents\\Motion Controller\\newportxps\\newportxps\\controller_param.py:53\u001b[0m, in \u001b[0;36mMotionController.set_position\u001b[1;34m(self, stage, position, relative)\u001b[0m\n\u001b[0;32m     51\u001b[0m \u001b[38;5;28;01mfor\u001b[39;00m sname, info \u001b[38;5;129;01min\u001b[39;00m \u001b[38;5;28mself\u001b[39m\u001b[38;5;241m.\u001b[39mstages\u001b[38;5;241m.\u001b[39mitems():\n\u001b[0;32m     52\u001b[0m     sname, \u001b[38;5;28mself\u001b[39m\u001b[38;5;241m.\u001b[39mget_stage_position(sname)\n\u001b[1;32m---> 53\u001b[0m \u001b[38;5;28;43mself\u001b[39;49m\u001b[38;5;241;43m.\u001b[39;49m\u001b[43mmove_stage\u001b[49m\u001b[43m(\u001b[49m\u001b[43mstage\u001b[49m\u001b[43m,\u001b[49m\u001b[43m \u001b[49m\u001b[43mposition\u001b[49m\u001b[43m,\u001b[49m\u001b[43m \u001b[49m\u001b[43mrelative\u001b[49m\u001b[38;5;241;43m=\u001b[39;49m\u001b[43mrelative\u001b[49m\u001b[43m)\u001b[49m\n",
      "File \u001b[1;32mc:\\Users\\ooa56\\Documents\\Motion Controller\\newportxps\\newportxps\\newportxps.py:25\u001b[0m, in \u001b[0;36mwithConnectedXPS.<locals>.wrapper\u001b[1;34m(self, *args, **kwargs)\u001b[0m\n\u001b[0;32m     23\u001b[0m \u001b[38;5;28;01mif\u001b[39;00m \u001b[38;5;28mself\u001b[39m\u001b[38;5;241m.\u001b[39m_sid \u001b[38;5;129;01mis\u001b[39;00m \u001b[38;5;28;01mNone\u001b[39;00m \u001b[38;5;129;01mor\u001b[39;00m \u001b[38;5;28mlen\u001b[39m(\u001b[38;5;28mself\u001b[39m\u001b[38;5;241m.\u001b[39mgroups) \u001b[38;5;241m<\u001b[39m \u001b[38;5;241m1\u001b[39m \u001b[38;5;129;01mor\u001b[39;00m \u001b[38;5;28mlen\u001b[39m(\u001b[38;5;28mself\u001b[39m\u001b[38;5;241m.\u001b[39mstages) \u001b[38;5;241m<\u001b[39m \u001b[38;5;241m1\u001b[39m:\n\u001b[0;32m     24\u001b[0m     \u001b[38;5;28mself\u001b[39m\u001b[38;5;241m.\u001b[39mconnect()\n\u001b[1;32m---> 25\u001b[0m \u001b[38;5;28;01mreturn\u001b[39;00m \u001b[43mfcn\u001b[49m\u001b[43m(\u001b[49m\u001b[38;5;28;43mself\u001b[39;49m\u001b[43m,\u001b[49m\u001b[43m \u001b[49m\u001b[38;5;241;43m*\u001b[39;49m\u001b[43margs\u001b[49m\u001b[43m,\u001b[49m\u001b[43m \u001b[49m\u001b[38;5;241;43m*\u001b[39;49m\u001b[38;5;241;43m*\u001b[39;49m\u001b[43mkwargs\u001b[49m\u001b[43m)\u001b[49m\n",
      "File \u001b[1;32mc:\\Users\\ooa56\\Documents\\Motion Controller\\newportxps\\newportxps\\newportxps.py:729\u001b[0m, in \u001b[0;36mNewportXPS.move_stage\u001b[1;34m(self, stage, value, relative)\u001b[0m\n\u001b[0;32m    726\u001b[0m     move \u001b[38;5;241m=\u001b[39m \u001b[38;5;28mself\u001b[39m\u001b[38;5;241m.\u001b[39m_xps\u001b[38;5;241m.\u001b[39mGroupMoveRelative\n\u001b[0;32m    728\u001b[0m err, ret \u001b[38;5;241m=\u001b[39m move(\u001b[38;5;28mself\u001b[39m\u001b[38;5;241m.\u001b[39m_sid, stage, [value])\n\u001b[1;32m--> 729\u001b[0m \u001b[38;5;28;43mself\u001b[39;49m\u001b[38;5;241;43m.\u001b[39;49m\u001b[43mcheck_error\u001b[49m\u001b[43m(\u001b[49m\u001b[43merr\u001b[49m\u001b[43m,\u001b[49m\u001b[43m \u001b[49m\u001b[43mmsg\u001b[49m\u001b[38;5;241;43m=\u001b[39;49m\u001b[38;5;124;43m\"\u001b[39;49m\u001b[38;5;124;43mMoving stage \u001b[39;49m\u001b[38;5;124;43m'\u001b[39;49m\u001b[38;5;132;43;01m%s\u001b[39;49;00m\u001b[38;5;124;43m'\u001b[39;49m\u001b[38;5;124;43m\"\u001b[39;49m\u001b[43m \u001b[49m\u001b[38;5;241;43m%\u001b[39;49m\u001b[43m \u001b[49m\u001b[43m(\u001b[49m\u001b[43mstage\u001b[49m\u001b[43m)\u001b[49m\u001b[43m)\u001b[49m\n\u001b[0;32m    730\u001b[0m \u001b[38;5;28;01mreturn\u001b[39;00m ret\n",
      "File \u001b[1;32mc:\\Users\\ooa56\\Documents\\Motion Controller\\newportxps\\newportxps\\newportxps.py:156\u001b[0m, in \u001b[0;36mNewportXPS.check_error\u001b[1;34m(self, err, msg, with_raise)\u001b[0m\n\u001b[0;32m    154\u001b[0m \u001b[38;5;28mprint\u001b[39m(\u001b[38;5;124m\"\u001b[39m\u001b[38;5;124mXPSError: message= \u001b[39m\u001b[38;5;132;01m%s\u001b[39;00m\u001b[38;5;124m, error=\u001b[39m\u001b[38;5;132;01m%s\u001b[39;00m\u001b[38;5;124m, description=\u001b[39m\u001b[38;5;132;01m%s\u001b[39;00m\u001b[38;5;124m\"\u001b[39m \u001b[38;5;241m%\u001b[39m (msg, err, desc))\n\u001b[0;32m    155\u001b[0m \u001b[38;5;28;01mif\u001b[39;00m with_raise:\n\u001b[1;32m--> 156\u001b[0m     \u001b[38;5;28;01mraise\u001b[39;00m XPSException(\u001b[38;5;124m\"\u001b[39m\u001b[38;5;132;01m%s\u001b[39;00m\u001b[38;5;124m \u001b[39m\u001b[38;5;132;01m%s\u001b[39;00m\u001b[38;5;124m [Error \u001b[39m\u001b[38;5;132;01m%s\u001b[39;00m\u001b[38;5;124m]\u001b[39m\u001b[38;5;124m\"\u001b[39m \u001b[38;5;241m%\u001b[39m (msg, desc, err))\n",
      "\u001b[1;31mXPSException\u001b[0m: Moving stage 'Group1.Pos' Not allowed action [Error -22]"
     ]
    }
   ],
   "source": [
    "\n",
    "# Set position of a stage\n",
    "controller.set_position(stage=\"Group1.Pos\", position=100.0)\n"
   ]
  },
  {
   "cell_type": "code",
   "execution_count": null,
   "metadata": {},
   "outputs": [],
   "source": [
    "\n",
    "# Set velocity parameters for a stage\n",
    "controller.set_velocity_parameters(stage=\"STAGE1\", velocity=500.0, acceleration=2000.0)\n",
    "\n",
    "# Stop the motion controller\n",
    "controller.stop_controller()"
   ]
  }
 ],
 "metadata": {
  "kernelspec": {
   "display_name": "xpsctrl",
   "language": "python",
   "name": "python3"
  },
  "language_info": {
   "codemirror_mode": {
    "name": "ipython",
    "version": 3
   },
   "file_extension": ".py",
   "mimetype": "text/x-python",
   "name": "python",
   "nbconvert_exporter": "python",
   "pygments_lexer": "ipython3",
   "version": "3.12.3"
  }
 },
 "nbformat": 4,
 "nbformat_minor": 2
}
