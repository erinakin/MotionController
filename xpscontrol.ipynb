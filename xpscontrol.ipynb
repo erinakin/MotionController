{
 "cells": [
  {
   "cell_type": "markdown",
   "metadata": {},
   "source": [
    "### Motion Controls\n",
    "##### Goal  \n",
    "Modular Code So blocks for specific functions or buttons\n",
    "First Identify What functions are necessary for experiment context\n",
    "\n",
    "#### Features from LabView Code \n",
    "\n",
    "Accepts these Inputs:  \n",
    "IP Address: 192.168.254.254  \n",
    "Port No: 5001  \n",
    "Timeout: 10,000  \n",
    "GroupName: Group 1  \n",
    "nbitems: 1  \n",
    "TargetPosition:  \n",
    "STOP BUTTON  "
   ]
  },
  {
   "cell_type": "markdown",
   "metadata": {},
   "source": [
    "1. Create xps object and Checks group status below"
   ]
  },
  {
   "cell_type": "markdown",
   "metadata": {},
   "source": [
    "### Connect and Status"
   ]
  },
  {
   "cell_type": "code",
   "execution_count": 1,
   "metadata": {},
   "outputs": [
    {
     "ename": "ImportError",
     "evalue": "attempted relative import with no known parent package",
     "output_type": "error",
     "traceback": [
      "\u001b[1;31m---------------------------------------------------------------------------\u001b[0m",
      "\u001b[1;31mImportError\u001b[0m                               Traceback (most recent call last)",
      "Cell \u001b[1;32mIn[1], line 3\u001b[0m\n\u001b[0;32m      1\u001b[0m get_ipython()\u001b[38;5;241m.\u001b[39mrun_line_magic(\u001b[38;5;124m'\u001b[39m\u001b[38;5;124mload_ext\u001b[39m\u001b[38;5;124m'\u001b[39m, \u001b[38;5;124m'\u001b[39m\u001b[38;5;124mautoreload\u001b[39m\u001b[38;5;124m'\u001b[39m)\n\u001b[0;32m      2\u001b[0m get_ipython()\u001b[38;5;241m.\u001b[39mrun_line_magic(\u001b[38;5;124m'\u001b[39m\u001b[38;5;124mautoreload\u001b[39m\u001b[38;5;124m'\u001b[39m, \u001b[38;5;124m'\u001b[39m\u001b[38;5;124m2\u001b[39m\u001b[38;5;124m'\u001b[39m)\n\u001b[1;32m----> 3\u001b[0m \u001b[38;5;28;01mfrom\u001b[39;00m \u001b[38;5;21;01mnewportxps\u001b[39;00m\u001b[38;5;21;01m.\u001b[39;00m\u001b[38;5;21;01mnewportxps\u001b[39;00m \u001b[38;5;28;01mimport\u001b[39;00m NewportXPS\n\u001b[0;32m      5\u001b[0m xps \u001b[38;5;241m=\u001b[39m NewportXPS(\u001b[38;5;124m'\u001b[39m\u001b[38;5;124m192.168.254.254\u001b[39m\u001b[38;5;124m'\u001b[39m, username\u001b[38;5;241m=\u001b[39m\u001b[38;5;124m'\u001b[39m\u001b[38;5;124mAdministrator\u001b[39m\u001b[38;5;124m'\u001b[39m, password\u001b[38;5;241m=\u001b[39m\u001b[38;5;124m'\u001b[39m\u001b[38;5;124mAdministrator\u001b[39m\u001b[38;5;124m'\u001b[39m)\n\u001b[0;32m      7\u001b[0m \u001b[38;5;28mprint\u001b[39m(xps\u001b[38;5;241m.\u001b[39mstatus_report())\n",
      "File \u001b[1;32mc:\\Users\\ooa56\\Documents\\Motion Controller\\newportxps\\newportxps\\newportxps.py:12\u001b[0m\n\u001b[0;32m      9\u001b[0m \u001b[38;5;28;01mfrom\u001b[39;00m \u001b[38;5;21;01mconfigparser\u001b[39;00m \u001b[38;5;28;01mimport\u001b[39;00m  ConfigParser\n\u001b[0;32m     10\u001b[0m \u001b[38;5;28;01mimport\u001b[39;00m \u001b[38;5;21;01mnumpy\u001b[39;00m \u001b[38;5;28;01mas\u001b[39;00m \u001b[38;5;21;01mnp\u001b[39;00m\n\u001b[1;32m---> 12\u001b[0m \u001b[38;5;28;01mfrom\u001b[39;00m \u001b[38;5;21;01m.\u001b[39;00m\u001b[38;5;21;01mdebugtime\u001b[39;00m \u001b[38;5;28;01mimport\u001b[39;00m debugtime\n\u001b[0;32m     13\u001b[0m \u001b[38;5;28;01mfrom\u001b[39;00m \u001b[38;5;21;01m.\u001b[39;00m\u001b[38;5;21;01mutils\u001b[39;00m \u001b[38;5;28;01mimport\u001b[39;00m clean_text\n\u001b[0;32m     14\u001b[0m \u001b[38;5;28;01mfrom\u001b[39;00m \u001b[38;5;21;01m.\u001b[39;00m\u001b[38;5;21;01mXPS_C8_drivers\u001b[39;00m \u001b[38;5;28;01mimport\u001b[39;00m XPS, XPSException\n",
      "\u001b[1;31mImportError\u001b[0m: attempted relative import with no known parent package"
     ]
    }
   ],
   "source": [
    "%load_ext autoreload\n",
    "%autoreload 2   \n",
    "from newportxps.newportxps import NewportXPS\n",
    "\n",
    "xps = NewportXPS('192.168.254.254', username='Administrator', password='Administrator')\n",
    "\n",
    "print(xps.status_report())"
   ]
  },
  {
   "cell_type": "code",
   "execution_count": 4,
   "metadata": {},
   "outputs": [
    {
     "data": {
      "text/plain": [
       "{'Group1': {'category': 'singleaxisinuse', 'positioners': ['Pos']}}"
      ]
     },
     "execution_count": 4,
     "metadata": {},
     "output_type": "execute_result"
    }
   ],
   "source": [
    "xps.read_systemini()"
   ]
  },
  {
   "cell_type": "markdown",
   "metadata": {},
   "source": [
    "Error Description:\n",
    "ZM high level: This refers to the mechanical zero signal used with some stages. The ZM\n",
    "signal is high during one part of the travel and low during the other part of the travel.\n",
    "The detection of the ZM high/low transition in combination with an encoder index pulse\n",
    "signal allows a fast and repeatable origin search\n",
    "(MechanicalZeroAndIndexHomeSearch).\n",
    "\n",
    "Do I need to resolve this error? Don't think so has not prevented the running of following commands\n",
    "\n"
   ]
  },
  {
   "cell_type": "code",
   "execution_count": 15,
   "metadata": {},
   "outputs": [
    {
     "name": "stdout",
     "output_type": "stream",
     "text": [
      "Group1.Pos 0 {'stagetype': 'ILS@ILS200LM@XPS-DRV02', 'max_velo': 500, 'max_accel': 666.6666666666666, 'low_limit': -100, 'high_limit': 100}\n"
     ]
    }
   ],
   "source": [
    "# Print all stages configured on the controller\n",
    "for sname, info in xps.stages.items():\n",
    "    print(sname, xps.get_stage_position(sname), info)"
   ]
  },
  {
   "cell_type": "markdown",
   "metadata": {},
   "source": [
    "2. Now Initialize Group  \n",
    "Notes:  \n",
    "Initializing the group (turning the motor on) causes the stage to move.  \n",
    "Have not neccessarily observed pattern in how much the stage moves or even the direction it moves.  \n",
    "Comparing the command above and below to check the position of the group shows the change.\n",
    "AFter initializing group Status is in Not Referenced State\n"
   ]
  },
  {
   "cell_type": "markdown",
   "metadata": {},
   "source": [
    "Note:  To prevent following Error during Homing process. Ensure that within the stages.ini configuration file the Home Search Process Parameters are as below the maximum velocity is 40 Unit/Sec.  \n",
    "SETTINGS:  \n",
    "; --- Home search process parameters  \n",
    "; --- <HomeSearch.MechanicalZeroAndIndexHomeSearch>  \n",
    "HomeSearchSequenceType = MechanicalZeroAndIndexHomeSearch  \n",
    "HomeSearchMaximumVelocity = 30 ; Unit/Sec  \n",
    "HomeSearchMaximumAcceleration = 400 ; Unit/Sec²  \n",
    "HomeSearchTimeOut = 10 ; Sec  \n",
    "HomingSensorOffset = 0 ; Unit  "
   ]
  },
  {
   "cell_type": "markdown",
   "metadata": {},
   "source": [
    "### Initialize and Home"
   ]
  },
  {
   "cell_type": "code",
   "execution_count": 2,
   "metadata": {},
   "outputs": [],
   "source": [
    "#if group status enabled then kill all groups else initialize group\n",
    "# Remember to Kill Group before exiting or if the motor is still on\n",
    "xps.kill_group('Group1')\n",
    "\n",
    "# Turns on the servo Motor for the specified group and home the stage\n",
    "xps.initialize_group('Group1', with_encoder=True, home=True, with_raise=True)"
   ]
  },
  {
   "cell_type": "code",
   "execution_count": 6,
   "metadata": {},
   "outputs": [
    {
     "name": "stdout",
     "output_type": "stream",
     "text": [
      "Group1 {'category': 'singleaxisinuse', 'positioners': ['Pos']}\n"
     ]
    }
   ],
   "source": [
    "# Print all groups configured on the controller\n",
    "for gname, info in xps.groups.items():\n",
    "    print(gname, info)"
   ]
  },
  {
   "cell_type": "code",
   "execution_count": 7,
   "metadata": {},
   "outputs": [
    {
     "name": "stdout",
     "output_type": "stream",
     "text": [
      "Where Group1.Pos is 1e-05 {'category': 'singleaxisinuse', 'positioners': ['Pos']}\n",
      "{'Group1': 'Ready state from homing'}\n"
     ]
    }
   ],
   "source": [
    "# Note Turning the servo on will cause the stage to move the stage position\n",
    "# Check to make sure that these functions perform as expected\n",
    "print('Where Group1.Pos is', xps.get_stage_position('Group1.Pos'), info)\n",
    "print(xps.get_group_status())"
   ]
  },
  {
   "cell_type": "markdown",
   "metadata": {},
   "source": [
    "### Move Motion Stage"
   ]
  },
  {
   "cell_type": "code",
   "execution_count": 11,
   "metadata": {},
   "outputs": [
    {
     "data": {
      "text/plain": [
       "''"
      ]
     },
     "execution_count": 11,
     "metadata": {},
     "output_type": "execute_result"
    }
   ],
   "source": [
    "# Move the stage to a new position. Default is absolute motion can optionally set the motion to relative by relative=True\n",
    "xps.move_stage('Group1.Pos', 10.0)\n"
   ]
  },
  {
   "cell_type": "markdown",
   "metadata": {},
   "source": [
    "### STOP Button"
   ]
  },
  {
   "cell_type": "code",
   "execution_count": null,
   "metadata": {},
   "outputs": [],
   "source": []
  }
 ],
 "metadata": {
  "kernelspec": {
   "display_name": "xpsctrl",
   "language": "python",
   "name": "python3"
  },
  "language_info": {
   "codemirror_mode": {
    "name": "ipython",
    "version": 3
   },
   "file_extension": ".py",
   "mimetype": "text/x-python",
   "name": "python",
   "nbconvert_exporter": "python",
   "pygments_lexer": "ipython3",
   "version": "3.12.3"
  }
 },
 "nbformat": 4,
 "nbformat_minor": 2
}
